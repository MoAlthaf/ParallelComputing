{
 "cells": [
  {
   "cell_type": "code",
   "execution_count": 3,
   "id": "d5e8f6b7-2e21-448f-97f9-269b5cc231a5",
   "metadata": {},
   "outputs": [],
   "source": [
    "import multiprocessing\n",
    "import random\n",
    "# import string\n",
    "import time\n",
    "import threading"
   ]
  },
  {
   "cell_type": "code",
   "execution_count": 4,
   "id": "7770d3ff-10af-4ae3-aaa3-827019c311a6",
   "metadata": {},
   "outputs": [],
   "source": [
    "def generate_and_add_numbers(n: int = 1000):\n",
    "    total = 0\n",
    "    for i in range(n):\n",
    "        total += random.randint(0,1000000)\n",
    "    return total\n",
    "\n",
    "\n",
    "def generate_and_join_letters(n: int = 1000):\n",
    "    letters = ''\n",
    "    for i in range(n):\n",
    "        letters += chr(random.randint(33, 126))\n",
    "        # letters += random.choice(string.ascii_letters + string.digits)\n",
    "    return letters"
   ]
  },
  {
   "cell_type": "code",
   "execution_count": 5,
   "id": "bcb3b9db-9158-490b-b37a-a326d75fd6d4",
   "metadata": {},
   "outputs": [
    {
     "name": "stdout",
     "output_type": "stream",
     "text": [
      "Starting the Program\n",
      "Exiting the Program\n",
      "It took 6.508941411972046s to execute the tasks.\n"
     ]
    }
   ],
   "source": [
    "print(\"Starting the Program\")\n",
    "total_start_time = time.time()\n",
    "\n",
    "generate_and_add_numbers(int(1e7))\n",
    "generate_and_join_letters(int(1e7))\n",
    "\n",
    "total_end_time = time.time()\n",
    "print(\"Exiting the Program\")\n",
    "sequential_execution_time = total_end_time - total_start_time\n",
    "print(f\"It took {sequential_execution_time}s to execute the tasks.\")"
   ]
  },
  {
   "cell_type": "code",
   "execution_count": 6,
   "id": "ad76a0ad-a90a-4b09-9924-7193a4bfea76",
   "metadata": {},
   "outputs": [
    {
     "name": "stdout",
     "output_type": "stream",
     "text": [
      "Starting the  thread program\n",
      "Exiting the thread program\n",
      "It took 6.762773275375366s to execute the tasks with thread.\n"
     ]
    }
   ],
   "source": [
    "print(\"Starting the  thread program\")\n",
    "total_start_time = time.time()\n",
    "\n",
    "thread_numbers = threading.Thread(target=generate_and_add_numbers, args=[int(1e7)])\n",
    "thread_letters = threading.Thread(target=generate_and_join_letters, args=[int(1e7)])\n",
    "\n",
    "thread_numbers.start()\n",
    "thread_letters.start()\n",
    "\n",
    "thread_numbers.join()\n",
    "thread_letters.join()\n",
    "\n",
    "total_end_time = time.time()\n",
    "print(\"Exiting the thread program\")\n",
    "thread_execution_time = total_end_time - total_start_time\n",
    "print(f\"It took {thread_execution_time}s to execute the tasks with thread.\")"
   ]
  },
  {
   "cell_type": "code",
   "execution_count": 7,
   "id": "1ddb63d2-1a5c-4f8b-a3da-01580a629a48",
   "metadata": {},
   "outputs": [
    {
     "name": "stdout",
     "output_type": "stream",
     "text": [
      "Starting the two threads program for generate numbers\n",
      "Exiting two threads program for generate numbers\n",
      "It took 6.806383848190308s to execute the tasks with threads.\n"
     ]
    }
   ],
   "source": [
    "print(\"Starting the two threads program for generate numbers\")\n",
    "total_start_time = time.time()\n",
    "\n",
    "thread_numbers = threading.Thread(target=generate_and_add_numbers, args=[int(1e7)])\n",
    "thread_letters = threading.Thread(target=generate_and_add_numbers, args=[int(1e7)])\n",
    "\n",
    "thread_numbers.start()\n",
    "thread_letters.start()\n",
    "\n",
    "thread_numbers.join()\n",
    "thread_letters.join()\n",
    "\n",
    "total_end_time = time.time()\n",
    "print(\"Exiting two threads program for generate numbers\")\n",
    "execution_time = total_end_time - total_start_time\n",
    "print(f\"It took {execution_time}s to execute the tasks with threads.\")"
   ]
  },
  {
   "cell_type": "code",
   "execution_count": 8,
   "id": "b5201996-0e52-4d94-a330-4c59dbb85589",
   "metadata": {},
   "outputs": [
    {
     "name": "stdout",
     "output_type": "stream",
     "text": [
      "Starting the two threads program for generate letters\n",
      "Exiting two threads program for generate letters\n",
      "It took 6.857997894287109s to execute the tasks with threads.\n"
     ]
    }
   ],
   "source": [
    "print(\"Starting the two threads program for generate letters\")\n",
    "total_start_time = time.time()\n",
    "\n",
    "thread_numbers = threading.Thread(target=generate_and_add_numbers, args=[int(1e7)])\n",
    "thread_letters = threading.Thread(target=generate_and_add_numbers, args=[int(1e7)])\n",
    "\n",
    "thread_numbers.start()\n",
    "thread_letters.start()\n",
    "\n",
    "thread_numbers.join()\n",
    "thread_letters.join()\n",
    "\n",
    "total_end_time = time.time()\n",
    "print(\"Exiting two threads program for generate letters\")\n",
    "execution_time = total_end_time - total_start_time\n",
    "print(f\"It took {execution_time}s to execute the tasks with threads.\")"
   ]
  },
  {
   "cell_type": "code",
   "execution_count": 9,
   "id": "724eabd5-288d-4408-802c-e998c2bf6813",
   "metadata": {},
   "outputs": [
    {
     "name": "stdout",
     "output_type": "stream",
     "text": [
      "Starting the two processs program for generate letters\n",
      "Exiting two processs program for generate letters\n",
      "It took 3.3149521350860596s to execute the tasks with processs.\n"
     ]
    }
   ],
   "source": [
    "print(\"Starting the two processs program for generate letters\")\n",
    "total_start_time = time.time()\n",
    "\n",
    "process_numbers = multiprocessing.Process(target=generate_and_add_numbers, args=[int(1e7)])\n",
    "process_letters = multiprocessing.Process(target=generate_and_add_numbers, args=[int(1e7)])\n",
    "\n",
    "process_numbers.start()\n",
    "process_letters.start()\n",
    "\n",
    "process_numbers.join()\n",
    "process_letters.join()\n",
    "\n",
    "total_end_time = time.time()\n",
    "print(\"Exiting two processs program for generate letters\")\n",
    "process_execution_time = total_end_time - total_start_time\n",
    "print(f\"It took {process_execution_time}s to execute the tasks with processs.\")"
   ]
  },
  {
   "cell_type": "code",
   "execution_count": 10,
   "id": "014bf0cb-3f54-42ed-92db-e0bfcb828b75",
   "metadata": {},
   "outputs": [
    {
     "name": "stdout",
     "output_type": "stream",
     "text": [
      "The speedup using threads is 0.9624663058973788\n",
      "The speedup using processes is 1.9635099231389255\n"
     ]
    }
   ],
   "source": [
    "speedup_thread = sequential_execution_time/thread_execution_time\n",
    "speedup_processes = sequential_execution_time/process_execution_time\n",
    "\n",
    "print(f\"The speedup using threads is {speedup_thread}\")\n",
    "print(f\"The speedup using processes is {speedup_processes}\")"
   ]
  },
  {
   "cell_type": "code",
   "execution_count": 11,
   "id": "4098304a-1685-4feb-a656-d16e712f6ec6",
   "metadata": {},
   "outputs": [
    {
     "name": "stdout",
     "output_type": "stream",
     "text": [
      "The efficiency using threads is 0.2406165764743447\n",
      "The efficiency using processes is 0.49087748078473137\n"
     ]
    }
   ],
   "source": [
    "np = 4\n",
    "efficiency_thread = speedup_thread/np\n",
    "efficiency_processes = speedup_processes/np\n",
    "\n",
    "print(f\"The efficiency using threads is {efficiency_thread}\")\n",
    "print(f\"The efficiency using processes is {efficiency_processes}\")"
   ]
  },
  {
   "cell_type": "code",
   "execution_count": 12,
   "id": "a06e9e04-72aa-4149-a6cc-5f0d99a8dd8b",
   "metadata": {},
   "outputs": [
    {
     "name": "stdout",
     "output_type": "stream",
     "text": [
      "99.99999999999991\n"
     ]
    }
   ],
   "source": [
    "P = 0.99\n",
    "amdhal_s=1/(1-P)\n",
    "print(amdhal_s)"
   ]
  },
  {
   "cell_type": "code",
   "execution_count": 13,
   "id": "89a9b4fd-c5ca-442d-9dc1-5397d36cf227",
   "metadata": {},
   "outputs": [
    {
     "name": "stdout",
     "output_type": "stream",
     "text": [
      "3.9699999999999998\n"
     ]
    }
   ],
   "source": [
    "alpha = 1-0.99\n",
    "gustafson= np - alpha*(np-1)\n",
    "print(gustafson)"
   ]
  },
  {
   "cell_type": "code",
   "execution_count": null,
   "id": "56bb2d9b-8bfc-4a09-95fb-dc9b87e9cd45",
   "metadata": {},
   "outputs": [],
   "source": []
  }
 ],
 "metadata": {
  "kernelspec": {
   "display_name": "Python 3 (ipykernel)",
   "language": "python",
   "name": "python3"
  },
  "language_info": {
   "codemirror_mode": {
    "name": "ipython",
    "version": 3
   },
   "file_extension": ".py",
   "mimetype": "text/x-python",
   "name": "python",
   "nbconvert_exporter": "python",
   "pygments_lexer": "ipython3",
   "version": "3.12.7"
  }
 },
 "nbformat": 4,
 "nbformat_minor": 5
}
