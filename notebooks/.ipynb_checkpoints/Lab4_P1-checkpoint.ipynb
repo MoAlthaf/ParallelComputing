{
 "cells": [
  {
   "cell_type": "code",
   "execution_count": 1,
   "id": "b051b884-3108-4cff-bee2-e25af5604898",
   "metadata": {},
   "outputs": [],
   "source": [
    "import random\n",
    "from queue import Queue"
   ]
  },
  {
   "cell_type": "code",
   "execution_count": 7,
   "id": "c9b6f49c-8b47-49e5-95aa-9657837b9693",
   "metadata": {},
   "outputs": [],
   "source": [
    "latest_temperatures={}\n",
    "temperature_average={}\n",
    "temperature_queue = Queue()\n",
    "\n",
    "lock = threading.Lock()\n",
    "def simulate_sensor():\n",
    "    while True:\n",
    "        temperature = random.randint(15, 40)  \n",
    "        \n",
    "        with lock:\n",
    "            latest_temperatures[sensor_id] = temperature \n",
    "        \n",
    "        temperature_queue.put((sensor_id, temperature)) \n",
    "        \n",
    "        time.sleep(1)"
   ]
  },
  {
   "cell_type": "code",
   "execution_count": null,
   "id": "bebb4a1e-4058-42b8-80be-2f8f889d84d0",
   "metadata": {},
   "outputs": [],
   "source": [
    "def initialize_display():\n",
    "    print(\"Current temperatures: \")\n",
    "    print(\"Latest temperatures: \")\n",
    "    for  i in len(latest_temepratures):\n",
    "        pritn(f\"Sesnsor {i}: {latest_temperatures[i] C\"})\n",
    "        print()"
   ]
  }
 ],
 "metadata": {
  "kernelspec": {
   "display_name": "Python 3 (ipykernel)",
   "language": "python",
   "name": "python3"
  },
  "language_info": {
   "codemirror_mode": {
    "name": "ipython",
    "version": 3
   },
   "file_extension": ".py",
   "mimetype": "text/x-python",
   "name": "python",
   "nbconvert_exporter": "python",
   "pygments_lexer": "ipython3",
   "version": "3.12.2"
  }
 },
 "nbformat": 4,
 "nbformat_minor": 5
}
