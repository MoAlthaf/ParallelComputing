{
 "cells": [
  {
   "cell_type": "code",
   "execution_count": null,
   "id": "b051b884-3108-4cff-bee2-e25af5604898",
   "metadata": {},
   "outputs": [],
   "source": [
    "import random\n",
    "from queue import Queue"
   ]
  },
  {
   "cell_type": "code",
   "execution_count": 7,
   "id": "c9b6f49c-8b47-49e5-95aa-9657837b9693",
   "metadata": {},
   "outputs": [],
   "source": [
    "latest_temperatures={}\n",
    "temperature_average={}\n",
    "\n",
    "def simulate_sensor():\n",
    "    while True:\n",
    "        global latest_temperatures\n",
    "        temperature=random.randint(15,40)\n",
    "        latest_temperature[len(latest_temperature)]\n",
    "        temperature_queue.put(temperature)\n",
    "        time.sleep(1)"
   ]
  },
  {
   "cell_type": "code",
   "execution_count": 6,
   "id": "a29b8d4e-d231-4497-8e67-8f897fac7228",
   "metadata": {},
   "outputs": [
    {
     "ename": "AttributeError",
     "evalue": "'set' object has no attribute 'values'",
     "output_type": "error",
     "traceback": [
      "\u001b[0;31m---------------------------------------------------------------------------\u001b[0m",
      "\u001b[0;31mAttributeError\u001b[0m                            Traceback (most recent call last)",
      "Cell \u001b[0;32mIn[6], line 2\u001b[0m\n\u001b[1;32m      1\u001b[0m s\u001b[38;5;241m=\u001b[39m{\u001b[38;5;241m1\u001b[39m,\u001b[38;5;124m\"\u001b[39m\u001b[38;5;124mA\u001b[39m\u001b[38;5;124m\"\u001b[39m,\u001b[38;5;241m3\u001b[39m}\n\u001b[0;32m----> 2\u001b[0m s\u001b[38;5;241m.\u001b[39mvalues()\n",
      "\u001b[0;31mAttributeError\u001b[0m: 'set' object has no attribute 'values'"
     ]
    }
   ],
   "source": [
    "\n",
    "temperature_queue = Queue()\n",
    "def process_temperatures():\n",
    "\n",
    "    while True:\n",
    "        temp=temperature_queue.get()\n",
    "        \n",
    "    "
   ]
  },
  {
   "cell_type": "code",
   "execution_count": null,
   "id": "bebb4a1e-4058-42b8-80be-2f8f889d84d0",
   "metadata": {},
   "outputs": [],
   "source": [
    "def initialize_display():\n",
    "    print(\"Current temperatures: \")\n",
    "    print(\"Latest temperatures: \")\n",
    "    for  i in len(latest_temepratures):\n",
    "        pritn(f\"Sesnsor {i}: {latest_temperatures[i] C\"})\n",
    "        print()"
   ]
  }
 ],
 "metadata": {
  "kernelspec": {
   "display_name": "Python 3 (ipykernel)",
   "language": "python",
   "name": "python3"
  },
  "language_info": {
   "codemirror_mode": {
    "name": "ipython",
    "version": 3
   },
   "file_extension": ".py",
   "mimetype": "text/x-python",
   "name": "python",
   "nbconvert_exporter": "python",
   "pygments_lexer": "ipython3",
   "version": "3.12.7"
  }
 },
 "nbformat": 4,
 "nbformat_minor": 5
}
